{
  "nbformat": 4,
  "nbformat_minor": 0,
  "metadata": {
    "colab": {
      "name": "Pollution Data Entropy",
      "provenance": [],
      "collapsed_sections": [],
      "authorship_tag": "ABX9TyMR6ES20itD5FfS4ESwzZ80",
      "include_colab_link": true
    },
    "kernelspec": {
      "name": "python3",
      "display_name": "Python 3"
    }
  },
  "cells": [
    {
      "cell_type": "markdown",
      "metadata": {
        "id": "view-in-github",
        "colab_type": "text"
      },
      "source": [
        "<a href=\"https://colab.research.google.com/github/Kuyas/TimeSeriesEntropy/blob/master/Pollution_Data_Entropy.ipynb\" target=\"_parent\"><img src=\"https://colab.research.google.com/assets/colab-badge.svg\" alt=\"Open In Colab\"/></a>"
      ]
    },
    {
      "cell_type": "code",
      "metadata": {
        "id": "pZI0KLMeDYPs",
        "colab_type": "code",
        "outputId": "b2449e9d-aa22-4e91-ff8f-d512dae46eaa",
        "colab": {
          "base_uri": "https://localhost:8080/",
          "height": 121
        }
      },
      "source": [
        "from google.colab import drive\n",
        "drive.mount('/content/drive')"
      ],
      "execution_count": 1,
      "outputs": [
        {
          "output_type": "stream",
          "text": [
            "Go to this URL in a browser: https://accounts.google.com/o/oauth2/auth?client_id=947318989803-6bn6qk8qdgf4n4g3pfee6491hc0brc4i.apps.googleusercontent.com&redirect_uri=urn%3aietf%3awg%3aoauth%3a2.0%3aoob&response_type=code&scope=email%20https%3a%2f%2fwww.googleapis.com%2fauth%2fdocs.test%20https%3a%2f%2fwww.googleapis.com%2fauth%2fdrive%20https%3a%2f%2fwww.googleapis.com%2fauth%2fdrive.photos.readonly%20https%3a%2f%2fwww.googleapis.com%2fauth%2fpeopleapi.readonly\n",
            "\n",
            "Enter your authorization code:\n",
            "··········\n",
            "Mounted at /content/drive\n"
          ],
          "name": "stdout"
        }
      ]
    },
    {
      "cell_type": "code",
      "metadata": {
        "id": "G08_kmbhEJk1",
        "colab_type": "code",
        "outputId": "19e60db9-bc6f-4f97-c958-c4780a4cfa31",
        "colab": {
          "base_uri": "https://localhost:8080/",
          "height": 70
        }
      },
      "source": [
        "import numpy as np\n",
        "import math\n",
        "import matplotlib.pyplot as plt\n",
        "from tabulate import tabulate\n",
        "import pandas as pd\n",
        "import time as time\n",
        "import seaborn as sns\n",
        "import pickle\n",
        "# Use seaborn style defaults and set the default figure size\n",
        "sns.set(rc={'figure.figsize':(11, 4)})"
      ],
      "execution_count": 2,
      "outputs": [
        {
          "output_type": "stream",
          "text": [
            "/usr/local/lib/python3.6/dist-packages/statsmodels/tools/_testing.py:19: FutureWarning: pandas.util.testing is deprecated. Use the functions in the public API at pandas.testing instead.\n",
            "  import pandas.util.testing as tm\n"
          ],
          "name": "stderr"
        }
      ]
    },
    {
      "cell_type": "code",
      "metadata": {
        "id": "Bi2ofFngEL_h",
        "colab_type": "code",
        "colab": {}
      },
      "source": [
        "def save_obj(obj, name ):\n",
        "    with open('/content/drive/My Drive/TimeSeries/save/'+ name + '.pkl', 'wb') as f:\n",
        "        pickle.dump(obj, f, pickle.HIGHEST_PROTOCOL)\n",
        "\n",
        "def load_obj(name ):\n",
        "    with open('/content/drive/My Drive/TimeSeries/save/' + name + '.pkl', 'rb') as f:\n",
        "        return pickle.load(f)"
      ],
      "execution_count": 0,
      "outputs": []
    },
    {
      "cell_type": "code",
      "metadata": {
        "id": "nYt0OCgmENH5",
        "colab_type": "code",
        "outputId": "43a37602-9bb3-4c38-cf72-d8c6cad41653",
        "colab": {
          "base_uri": "https://localhost:8080/",
          "height": 258
        }
      },
      "source": [
        "df = pd.read_csv(\"/content/drive/My Drive/TimeSeries/PRSA_Data_Aotizhongxin_20130301-20170228.csv\") #read csv\n",
        "df1 = pd.to_datetime(df.iloc[:,1:5]) # convert the year-month-day-hour column to datetime format for time series\n",
        "Aotizhongxin = pd.concat([df, df1], axis=1, sort=False) # concat the datetime to original csv\n",
        "Aotizhongxin = Aotizhongxin.rename(columns = {0:\"DateTime\"}) # rename the concat'd column\n",
        "Aotizhongxin = Aotizhongxin.set_index('DateTime') # make the concat'd column as the index/serial\n",
        "cols_to_norm = ['PM2.5','PM10','SO2','NO2','CO','O3','TEMP','PRES','DEWP','RAIN','WSPM']\n",
        "# Aotizhongxin[cols_to_norm] = Aotizhongxin[cols_to_norm].apply(lambda x: (x - x.min()) / (x.max() - x.min())) # Normalize the columns\n",
        "display(Aotizhongxin.head())\n",
        "print(Aotizhongxin.shape)\n",
        "Aotizhongxin = Aotizhongxin.dropna()\n",
        "print(Aotizhongxin.shape)\n",
        "cols = ['PM2.5','PM10','SO2','NO2','CO','O3','TEMP','PRES','DEWP','RAIN','wd','WSPM']\n",
        "col = ['PM2.5']\n",
        "# Aotizhongxin[cols].plot(subplots=True, linestyle='-', figsize=(40, 40))\n",
        "# plt.show()"
      ],
      "execution_count": 6,
      "outputs": [
        {
          "output_type": "display_data",
          "data": {
            "text/html": [
              "<div>\n",
              "<style scoped>\n",
              "    .dataframe tbody tr th:only-of-type {\n",
              "        vertical-align: middle;\n",
              "    }\n",
              "\n",
              "    .dataframe tbody tr th {\n",
              "        vertical-align: top;\n",
              "    }\n",
              "\n",
              "    .dataframe thead th {\n",
              "        text-align: right;\n",
              "    }\n",
              "</style>\n",
              "<table border=\"1\" class=\"dataframe\">\n",
              "  <thead>\n",
              "    <tr style=\"text-align: right;\">\n",
              "      <th></th>\n",
              "      <th>No</th>\n",
              "      <th>year</th>\n",
              "      <th>month</th>\n",
              "      <th>day</th>\n",
              "      <th>hour</th>\n",
              "      <th>PM2.5</th>\n",
              "      <th>PM10</th>\n",
              "      <th>SO2</th>\n",
              "      <th>NO2</th>\n",
              "      <th>CO</th>\n",
              "      <th>O3</th>\n",
              "      <th>TEMP</th>\n",
              "      <th>PRES</th>\n",
              "      <th>DEWP</th>\n",
              "      <th>RAIN</th>\n",
              "      <th>wd</th>\n",
              "      <th>WSPM</th>\n",
              "      <th>station</th>\n",
              "    </tr>\n",
              "    <tr>\n",
              "      <th>DateTime</th>\n",
              "      <th></th>\n",
              "      <th></th>\n",
              "      <th></th>\n",
              "      <th></th>\n",
              "      <th></th>\n",
              "      <th></th>\n",
              "      <th></th>\n",
              "      <th></th>\n",
              "      <th></th>\n",
              "      <th></th>\n",
              "      <th></th>\n",
              "      <th></th>\n",
              "      <th></th>\n",
              "      <th></th>\n",
              "      <th></th>\n",
              "      <th></th>\n",
              "      <th></th>\n",
              "      <th></th>\n",
              "    </tr>\n",
              "  </thead>\n",
              "  <tbody>\n",
              "    <tr>\n",
              "      <th>2013-03-01 00:00:00</th>\n",
              "      <td>1</td>\n",
              "      <td>2013</td>\n",
              "      <td>3</td>\n",
              "      <td>1</td>\n",
              "      <td>0</td>\n",
              "      <td>4.0</td>\n",
              "      <td>4.0</td>\n",
              "      <td>4.0</td>\n",
              "      <td>7.0</td>\n",
              "      <td>300.0</td>\n",
              "      <td>77.0</td>\n",
              "      <td>-0.7</td>\n",
              "      <td>1023.0</td>\n",
              "      <td>-18.8</td>\n",
              "      <td>0.0</td>\n",
              "      <td>NNW</td>\n",
              "      <td>4.4</td>\n",
              "      <td>Aotizhongxin</td>\n",
              "    </tr>\n",
              "    <tr>\n",
              "      <th>2013-03-01 01:00:00</th>\n",
              "      <td>2</td>\n",
              "      <td>2013</td>\n",
              "      <td>3</td>\n",
              "      <td>1</td>\n",
              "      <td>1</td>\n",
              "      <td>8.0</td>\n",
              "      <td>8.0</td>\n",
              "      <td>4.0</td>\n",
              "      <td>7.0</td>\n",
              "      <td>300.0</td>\n",
              "      <td>77.0</td>\n",
              "      <td>-1.1</td>\n",
              "      <td>1023.2</td>\n",
              "      <td>-18.2</td>\n",
              "      <td>0.0</td>\n",
              "      <td>N</td>\n",
              "      <td>4.7</td>\n",
              "      <td>Aotizhongxin</td>\n",
              "    </tr>\n",
              "    <tr>\n",
              "      <th>2013-03-01 02:00:00</th>\n",
              "      <td>3</td>\n",
              "      <td>2013</td>\n",
              "      <td>3</td>\n",
              "      <td>1</td>\n",
              "      <td>2</td>\n",
              "      <td>7.0</td>\n",
              "      <td>7.0</td>\n",
              "      <td>5.0</td>\n",
              "      <td>10.0</td>\n",
              "      <td>300.0</td>\n",
              "      <td>73.0</td>\n",
              "      <td>-1.1</td>\n",
              "      <td>1023.5</td>\n",
              "      <td>-18.2</td>\n",
              "      <td>0.0</td>\n",
              "      <td>NNW</td>\n",
              "      <td>5.6</td>\n",
              "      <td>Aotizhongxin</td>\n",
              "    </tr>\n",
              "    <tr>\n",
              "      <th>2013-03-01 03:00:00</th>\n",
              "      <td>4</td>\n",
              "      <td>2013</td>\n",
              "      <td>3</td>\n",
              "      <td>1</td>\n",
              "      <td>3</td>\n",
              "      <td>6.0</td>\n",
              "      <td>6.0</td>\n",
              "      <td>11.0</td>\n",
              "      <td>11.0</td>\n",
              "      <td>300.0</td>\n",
              "      <td>72.0</td>\n",
              "      <td>-1.4</td>\n",
              "      <td>1024.5</td>\n",
              "      <td>-19.4</td>\n",
              "      <td>0.0</td>\n",
              "      <td>NW</td>\n",
              "      <td>3.1</td>\n",
              "      <td>Aotizhongxin</td>\n",
              "    </tr>\n",
              "    <tr>\n",
              "      <th>2013-03-01 04:00:00</th>\n",
              "      <td>5</td>\n",
              "      <td>2013</td>\n",
              "      <td>3</td>\n",
              "      <td>1</td>\n",
              "      <td>4</td>\n",
              "      <td>3.0</td>\n",
              "      <td>3.0</td>\n",
              "      <td>12.0</td>\n",
              "      <td>12.0</td>\n",
              "      <td>300.0</td>\n",
              "      <td>72.0</td>\n",
              "      <td>-2.0</td>\n",
              "      <td>1025.2</td>\n",
              "      <td>-19.5</td>\n",
              "      <td>0.0</td>\n",
              "      <td>N</td>\n",
              "      <td>2.0</td>\n",
              "      <td>Aotizhongxin</td>\n",
              "    </tr>\n",
              "  </tbody>\n",
              "</table>\n",
              "</div>"
            ],
            "text/plain": [
              "                     No  year  month  day  ...  RAIN   wd  WSPM       station\n",
              "DateTime                                   ...                               \n",
              "2013-03-01 00:00:00   1  2013      3    1  ...   0.0  NNW   4.4  Aotizhongxin\n",
              "2013-03-01 01:00:00   2  2013      3    1  ...   0.0    N   4.7  Aotizhongxin\n",
              "2013-03-01 02:00:00   3  2013      3    1  ...   0.0  NNW   5.6  Aotizhongxin\n",
              "2013-03-01 03:00:00   4  2013      3    1  ...   0.0   NW   3.1  Aotizhongxin\n",
              "2013-03-01 04:00:00   5  2013      3    1  ...   0.0    N   2.0  Aotizhongxin\n",
              "\n",
              "[5 rows x 18 columns]"
            ]
          },
          "metadata": {
            "tags": []
          }
        },
        {
          "output_type": "stream",
          "text": [
            "(35064, 18)\n",
            "(31815, 18)\n"
          ],
          "name": "stdout"
        }
      ]
    },
    {
      "cell_type": "markdown",
      "metadata": {
        "id": "DIxR1-rAEQX3",
        "colab_type": "text"
      },
      "source": [
        "# Entropy"
      ]
    },
    {
      "cell_type": "markdown",
      "metadata": {
        "id": "sVCUGKcBERwK",
        "colab_type": "text"
      },
      "source": [
        "## Sample Entropy"
      ]
    },
    {
      "cell_type": "code",
      "metadata": {
        "id": "DdGtRtkaEP5u",
        "colab_type": "code",
        "colab": {}
      },
      "source": [
        "def sample_entropy(time_series, sample_length, tolerance = None):\n",
        "    \"\"\"Calculates the sample entropy of degree m of a time_series.\n",
        "    This method uses chebychev norm.\n",
        "    It is quite fast for random data, but can be slower is there is\n",
        "    structure in the input time series.\n",
        "    Args:\n",
        "        time_series: numpy array of time series\n",
        "        sample_length: length of longest template vector\n",
        "        tolerance: tolerance (defaults to 0.1 * std(time_series)))\n",
        "    Returns:\n",
        "        Array of sample entropies:\n",
        "            SE[k] is ratio \"#templates of length k+1\" / \"#templates of length k\"\n",
        "            where #templates of length 0\" = n*(n - 1) / 2, by definition\n",
        "    Note:\n",
        "        The parameter 'sample_length' is equal to m + 1 in Ref[1].\n",
        "    References:\n",
        "        [1] http://en.wikipedia.org/wiki/Sample_Entropy\n",
        "        [2] http://physionet.incor.usp.br/physiotools/sampen/\n",
        "        [3] Madalena Costa, Ary Goldberger, CK Peng. Multiscale entropy analysis\n",
        "            of biological signals\n",
        "    \"\"\"\n",
        "    #The code below follows the sample length convention of Ref [1] so:\n",
        "    M = sample_length - 1;\n",
        "\n",
        "    time_series = np.array(time_series)\n",
        "    if tolerance is None:\n",
        "        tolerance = 0.1*np.std(time_series)\n",
        "\n",
        "    n = len(time_series)\n",
        "\n",
        "    #Ntemp is a vector that holds the number of matches. N[k] holds matches templates of length k\n",
        "    Ntemp = np.zeros(M + 2)\n",
        "    #Templates of length 0 matches by definition:\n",
        "    Ntemp[0] = n*(n - 1) / 2\n",
        "\n",
        "\n",
        "    for i in range(n - M - 1):\n",
        "        template = time_series[i:(i+M+1)];#We have 'M+1' elements in the template\n",
        "        rem_time_series = time_series[i+1:]\n",
        "\n",
        "        searchlist = np.arange(len(rem_time_series) - M, dtype=np.int32)\n",
        "        for length in range(1, len(template)+1):\n",
        "            hitlist = np.abs(rem_time_series[searchlist] - template[length-1]) < tolerance\n",
        "            Ntemp[length] += np.sum(hitlist)\n",
        "            searchlist = searchlist[hitlist] + 1\n",
        "\n",
        "    sampen =  - np.log(Ntemp[1:] / Ntemp[:-1])\n",
        "    return sampen\n"
      ],
      "execution_count": 0,
      "outputs": []
    },
    {
      "cell_type": "code",
      "metadata": {
        "id": "m5f8dnW6Ev-Q",
        "colab_type": "code",
        "colab": {}
      },
      "source": [
        "def util_granulate_time_series(time_series, scale):\n",
        "    \"\"\"Extract coarse-grained time series\n",
        "    Args:\n",
        "        time_series: Time series\n",
        "        scale: Scale factor\n",
        "    Returns:\n",
        "        Vector of coarse-grained time series with given scale factor\n",
        "    \"\"\"\n",
        "    n = len(time_series)\n",
        "    b = int(np.fix(n / scale))\n",
        "    temp = np.reshape(time_series[0:b*scale], (b, scale))\n",
        "    cts = np.mean(temp, axis = 1)\n",
        "    return cts\n"
      ],
      "execution_count": 0,
      "outputs": []
    },
    {
      "cell_type": "code",
      "metadata": {
        "id": "gljmoiPMEjnl",
        "colab_type": "code",
        "colab": {}
      },
      "source": [
        "def multiscale_entropy(time_series, sample_length, tolerance = None, maxscale = None):\n",
        "    \"\"\"Calculate the Multiscale Entropy of the given time series considering\n",
        "    different time-scales of the time series.\n",
        "    Args:\n",
        "        time_series: Time series for analysis\n",
        "        sample_length: Bandwidth or group of points\n",
        "        tolerance: Tolerance (default = 0.1*std(time_series))\n",
        "    Returns:\n",
        "        Vector containing Multiscale Entropy\n",
        "    Reference:\n",
        "        [1] http://en.pudn.com/downloads149/sourcecode/math/detail646216_en.html\n",
        "    \"\"\"\n",
        "\n",
        "    if tolerance is None:\n",
        "        #we need to fix the tolerance at this level. If it remains 'None' it will be changed in call to sample_entropy()\n",
        "        tolerance = 0.1*np.std(time_series)\n",
        "    if maxscale is None:\n",
        "        maxscale = len(time_series)\n",
        "\n",
        "    mse = np.zeros(maxscale)\n",
        "\n",
        "    for i in range(maxscale):\n",
        "        temp = util_granulate_time_series(time_series, i+1)\n",
        "        mse[i] = sample_entropy(temp, sample_length, tolerance)[-1]\n",
        "    return mse\n"
      ],
      "execution_count": 0,
      "outputs": []
    },
    {
      "cell_type": "markdown",
      "metadata": {
        "id": "wagF2irlEpAP",
        "colab_type": "text"
      },
      "source": [
        ""
      ]
    },
    {
      "cell_type": "code",
      "metadata": {
        "id": "W0xLXWUcEpp2",
        "colab_type": "code",
        "colab": {}
      },
      "source": [
        "def composite_multiscale_entropy(time_series, sample_length, scale, tolerance=None):\n",
        "    \"\"\"Calculate the Composite Multiscale Entropy of the given time series.\n",
        "    Args:\n",
        "        time_series: Time series for analysis\n",
        "        sample_length: Number of sequential points of the time series\n",
        "        scale: Scale factor\n",
        "        tolerance: Tolerance (default = 0.1...0.2 * std(time_series))\n",
        "    Returns:\n",
        "        Vector containing Composite Multiscale Entropy\n",
        "    Reference:\n",
        "        [1] Wu, Shuen-De, et al. \"Time series analysis using\n",
        "            composite multiscale entropy.\" Entropy 15.3 (2013): 1069-1084.\n",
        "    \"\"\"\n",
        "    cmse = np.zeros((scale, m))\n",
        "\n",
        "    for i in range(scale):\n",
        "        for j in range(i):\n",
        "            tmp = util_granulate_time_series(time_series[j:], i + 1)\n",
        "            cmse[i] += sample_entropy(tmp, sample_length, tolerance) / (i + 1)\n",
        "    return cmse\n"
      ],
      "execution_count": 0,
      "outputs": []
    },
    {
      "cell_type": "code",
      "metadata": {
        "id": "ttctLOTbGTzs",
        "colab_type": "code",
        "outputId": "44dbfea8-eed3-4ad8-92b7-28144b159403",
        "colab": {
          "base_uri": "https://localhost:8080/",
          "height": 101
        }
      },
      "source": [
        "places = ['Aotizhongxin','Changping','Dingling','Dongsi','Guanyuan','Gucheng','Hairou','Nongzhanguan','Shunyi','Tiantan','Wanliu','Wanshouxigong']\n",
        "filename_prefix = ['PM2.5','PM10','SO2','NO2','CO','O3'] \n",
        "pollution_series = [Aotizhongxin['PM2.5'],Aotizhongxin['PM10'],Aotizhongxin['SO2'],Aotizhongxin['NO2'],Aotizhongxin['CO'],Aotizhongxin['O3']] \n",
        "#k = 0-5\n",
        "k = 5\n",
        "\n",
        "series = pollution_series[k].tolist()\n",
        "m = 2\n",
        "scale = 20\n",
        "tolerance_per = 0.1\n",
        "r = tolerance_per*np.std(series)\n",
        "filename = \"Aotizhongxin_\"+filename_prefix[k]+\"_m=\"+str(m)+\"_r%=\"+str(tolerance_per)\n",
        "\n",
        "\n",
        "mse = multiscale_entropy(series,m,r,scale)\n",
        "cmse_temp = composite_multiscale_entropy(series,m,scale,r)\n",
        "cmse = np.zeros(scale)\n",
        "for i in range (scale):\n",
        "  cmse[i] = np.nanmean(cmse_temp[i])\n",
        "print(filename)\n",
        "save_obj(mse,filename+\"_mse\")\n",
        "save_obj(cmse,filename+\"_cmse\")\n",
        "print(mse)\n",
        "print(cmse)"
      ],
      "execution_count": 54,
      "outputs": [
        {
          "output_type": "stream",
          "text": [
            "0\n",
            "1\n",
            "2\n",
            "3\n",
            "4\n"
          ],
          "name": "stdout"
        }
      ]
    },
    {
      "cell_type": "code",
      "metadata": {
        "id": "BkEfwgh3IglD",
        "colab_type": "code",
        "colab": {
          "base_uri": "https://localhost:8080/",
          "height": 84
        },
        "outputId": "83a8982f-c2a0-45aa-d878-413aa7990981"
      },
      "source": [
        "# scale = 10/20\n",
        "# m = 2,4,8,16,20,24\n",
        "# r = 0.1,\n",
        "print(cmse)\n"
      ],
      "execution_count": 45,
      "outputs": [
        {
          "output_type": "stream",
          "text": [
            "[0.         0.7527763  1.05358619 1.23156029 1.3563538  1.4517247\n",
            " 1.53006851 1.59437281 1.65010263 1.6998651  1.74177976 1.7805286\n",
            " 1.81647472 1.84639578 1.8762626  1.90145892 1.92703938 1.9469296\n",
            " 1.96968377 1.99087287]\n"
          ],
          "name": "stdout"
        }
      ]
    },
    {
      "cell_type": "code",
      "metadata": {
        "id": "ScSvAVmgHQcC",
        "colab_type": "code",
        "outputId": "67c78147-d79d-4986-c471-3cd4e9d36217",
        "colab": {
          "base_uri": "https://localhost:8080/",
          "height": 883
        }
      },
      "source": [
        "fig, axes = plt.subplots(nrows=3, ncols=1,figsize=(20,15))\n",
        "axes[0].plot(series,\"r\")\n",
        "axes[0].set_xlabel(\"Scale Factor\")\n",
        "axes[0].set_ylabel(\"PM2.5\")\n",
        "\n",
        "axes[1].plot(mse, \"b-x\")\n",
        "axes[1].set_xlabel(\"Scale Factor\")\n",
        "axes[1].set_ylabel(\"MSE\")\n",
        "\n",
        "axes[2].plot(cmse, \"g-x\")\n",
        "axes[2].set_xlabel(\"Scale Factor\")\n",
        "axes[2].set_ylabel(\"CMSE\")\n",
        "# plt.xlim(0)\n",
        "# plt.ylim(0)\n",
        "plt.show()"
      ],
      "execution_count": 48,
      "outputs": [
        {
          "output_type": "display_data",
          "data": {
            "image/png": "[encoded data removed]",
            "text/plain": [
              "<Figure size 1440x1080 with 3 Axes>"
            ]
          },
          "metadata": {
            "tags": []
          }
        }
      ]
    },
    {
      "cell_type": "code",
      "metadata": {
        "id": "qDDj9PMLH5Y1",
        "colab_type": "code",
        "colab": {}
      },
      "source": [
        ""
      ],
      "execution_count": 0,
      "outputs": []
    }
  ]
}